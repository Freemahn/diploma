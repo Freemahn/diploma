{
 "cells": [
  {
   "cell_type": "code",
   "execution_count": 1,
   "metadata": {
    "collapsed": true
   },
   "outputs": [],
   "source": [
    "from sympy import *\n",
    "import sympy\n",
    "import random\n",
    "from sympy.core.symbol import symbols\n",
    "from sympy.solvers.solveset import nonlinsolve\n",
    "from lib import *\n",
    "init_printing()"
   ]
  },
  {
   "cell_type": "code",
   "execution_count": 2,
   "metadata": {
    "collapsed": true
   },
   "outputs": [],
   "source": [
    "a, b, c, d, kn = symbols('a, b, c, d, kn')\n",
    "a1, b1, c1 = symbols('a1, b1, c1')\n",
    "m, L, H, H0 = symbols('m, L, H, H0')\n",
    "x, y = symbols('x, y')\n",
    "v0, v1 = symbols('v0, v1')\n",
    "d1, d2 = symbols('d1, d2')\n",
    "H_, H0_, L_ = 1, 1, 15\n",
    "d1_ = 1\n",
    "m_ = 1\n",
    "n = 2\n",
    "kn = 16/5"
   ]
  },
  {
   "cell_type": "code",
   "execution_count": 3,
   "metadata": {
    "collapsed": false
   },
   "outputs": [
    {
     "name": "stdout",
     "output_type": "stream",
     "text": [
      "dyvy= a*x*(1 - y**2/H**2) - a*(1 - y**2/H**2)*(L - x) + b*x*(1 - y**2/H**2)**2 - b*(1 - y**2/H**2)**2*(L - x) + v0*(1 - y**2/H**2)**2/L - 3.2*v0*(1 - y**2/H**2)/L\n",
      "==================================================\n",
      "vx=\n",
      "                                                                              \n",
      "                                                        ⎛     2⎞      ⎛     2⎞\n",
      "                                                        ⎜    y ⎟      ⎜    y ⎟\n",
      "                                   2           3.2⋅v₀⋅x⋅⎜1 - ──⎟   v₀⋅⎜1 - ──⎟\n",
      "    ⎛     2⎞               ⎛     2⎞                     ⎜     2⎟      ⎜     2⎟\n",
      "    ⎜    y ⎟               ⎜    y ⎟                     ⎝    H ⎠      ⎝    H ⎠\n",
      "a⋅x⋅⎜1 - ──⎟⋅(L - x) + b⋅x⋅⎜1 - ──⎟ ⋅(L - x) + ───────────────── + ───────────\n",
      "    ⎜     2⎟               ⎜     2⎟                    L                    L \n",
      "    ⎝    H ⎠               ⎝    H ⎠                                           \n",
      "\n",
      "2        \n",
      "         \n",
      "         \n",
      " ⋅(L - x)\n",
      "         \n",
      "         \n",
      "─────────\n",
      "         \n",
      "         \n",
      "- - - - - - - - - - - - - - - - - - - - - - - - - - - - - - - - - - - - - - - - - - - - - - - - - - \n",
      "vy=\n",
      "      ⎛       2          2                                   ⎞                \n",
      "1.0⋅y⋅⎝- 1.0⋅L ⋅a - 1.0⋅L ⋅b + 2.0⋅L⋅a⋅x + 2.0⋅L⋅b⋅x - 2.2⋅v₀⎠   0.33333333333\n",
      "────────────────────────────────────────────────────────────── + ─────────────\n",
      "                              L                                               \n",
      "                                                                              \n",
      "\n",
      "      3 ⎛     2          2                                   ⎞        5 ⎛     \n",
      "3333⋅y ⋅⎝1.0⋅L ⋅a + 2.0⋅L ⋅b - 2.0⋅L⋅a⋅x - 4.0⋅L⋅b⋅x + 1.2⋅v₀⎠   0.2⋅y ⋅⎝- 1.0\n",
      "────────────────────────────────────────────────────────────── + ─────────────\n",
      "                        2                                                     \n",
      "                       H ⋅L                                                   \n",
      "\n",
      "  2                       ⎞\n",
      "⋅L ⋅b + 2.0⋅L⋅b⋅x + 1.0⋅v₀⎠\n",
      "───────────────────────────\n",
      "      4                    \n",
      "     H ⋅L                  \n",
      "==================================================\n"
     ]
    }
   ],
   "source": [
    "vx = a * x * (L - x) * (1 - y ** 2 / H ** 2) + \\\n",
    "     b * x * (L - x) * (1 - y ** 2 / H ** 2) ** 2 + \\\n",
    "     v0 * (L - x) / L * (1 - y ** 2 / H ** 2) ** n + \\\n",
    "     kn * v0 * (x / L) * (1 - y ** 2 / H ** 2)\n",
    "# vx = substitute(vx, [m, L, H], [m_, L_, H_])\n",
    "dxvx = diff(vx, x)\n",
    "dyvy = -dxvx\n",
    "print(\"dyvy=\", dyvy)\n",
    "print('='*50)\n",
    "vy = integrate(dyvy, y)\n",
    "# vy = substitute(vy, [a, b, v0], [a1, b1, v1])\n",
    "\n",
    "# vx = substitute(vx, [m, L, H], [m_, L_, H_])\n",
    "# vy = substitute(vy, [m, L, H], [m_, L_, H_])\n",
    "print(\"vx=\")\n",
    "pprint(vx)\n",
    "print('- '*50)\n",
    "print(\"vy=\")\n",
    "pprint(vy)\n",
    "print('='*50)"
   ]
  },
  {
   "cell_type": "code",
   "execution_count": 4,
   "metadata": {
    "collapsed": false
   },
   "outputs": [
    {
     "name": "stdout",
     "output_type": "stream",
     "text": [
      "1. Integrating...\n",
      "..finished\n",
      "                 2                                                            \n",
      "139851.80952381⋅a  + 224317.968253968⋅a⋅b + 11740.3428571429⋅a⋅v₀ + 127124.428\n",
      "\n",
      "        2                                              2\n",
      "282828⋅b  + 10198.5523809524⋅b⋅v₀ + 368.852385185185⋅v₀ \n"
     ]
    }
   ],
   "source": [
    "p = d1 * x + (1 - d1 * L)/ (L ** 2) * x ** 2\n",
    "p = substitute(p, [d1, L], [d1_, L_])\n",
    "pxx = -p * 1 + m * (diff(vx, x) + diff(vx, x))\n",
    "pxy = -p * 0 + m * (diff(vx, y) + diff(vy, x))\n",
    "pyy = -p * 1 + m * (diff(vy, y) + diff(vy, y))\n",
    "p2ij = pxx ** 2 + 2 * pxy ** 2 + pyy ** 2\n",
    "f = p2ij - 2 * p ** 2\n",
    "# f = substitute(f, [d1, m, H, L], [d1_, m_, H_, L_])\n",
    "print('1. Integrating...')\n",
    "g = integrate(f, (x, 0, L_), (y, -H, H))\n",
    "g = substitute(g, [d1, m,  H, L], [d1_,m_, H_, L_])\n",
    "print(\"..finished\")\n",
    "pprint(g)\n"
   ]
  },
  {
   "cell_type": "code",
   "execution_count": 5,
   "metadata": {
    "collapsed": false
   },
   "outputs": [
    {
     "name": "stdout",
     "output_type": "stream",
     "text": [
      "====================================================================================================\n",
      "1. Solving all partial derivatives equal to 0\n",
      "da= 279703.619047619*a + 224317.968253968*b + 11740.3428571429*v0\n",
      "db= 224317.968253968*a + 254248.856565657*b + 10198.5523809524*v0\n",
      "dv0= 11740.3428571429*a + 10198.5523809524*b + 737.704770370371*v0\n",
      "da1= 0\n",
      "db1= 0\n",
      "dv1= 0\n"
     ]
    }
   ],
   "source": [
    "print('=' * 100)\n",
    "print('1. Solving all partial derivatives equal to 0')\n",
    "da , db , dv0 = diff(g, a) , diff(g,b) , diff(g, v0)\n",
    "da1, db1, dv1 = diff(g, a1), diff(g,b1), diff(g, v1)\n",
    "print(\"da=\", da)\n",
    "print(\"db=\", db)\n",
    "print(\"dv0=\", dv0)\n",
    "print(\"da1=\", da1)\n",
    "print(\"db1=\", db1)\n",
    "print(\"dv1=\", dv1)"
   ]
  },
  {
   "cell_type": "code",
   "execution_count": 6,
   "metadata": {
    "collapsed": false
   },
   "outputs": [
    {
     "name": "stdout",
     "output_type": "stream",
     "text": [
      "--------------------------------------------------\n",
      "Solving for variables [a, b, v0]\n",
      "Amount of solutions 1\n",
      "New solution: \n",
      "a =0\n",
      "b =0\n",
      "v0 =0\n",
      "==================================================\n",
      "finished\n"
     ]
    }
   ],
   "source": [
    "result = solve([diff(g, a), diff(g, b), diff(g,v0), diff(g, a1), diff(g, b1), diff(g,v1)], [a,b, v0])\n",
    "print('finished')"
   ]
  },
  {
   "cell_type": "code",
   "execution_count": 7,
   "metadata": {
    "collapsed": false
   },
   "outputs": [
    {
     "name": "stdout",
     "output_type": "stream",
     "text": [
      "1. Building plot vx\n",
      "0\n",
      "====================================================================================================\n",
      "vx1 =  0\n"
     ]
    },
    {
     "ename": "TypeError",
     "evalue": "__init__() missing 1 required positional argument: 'var_start_end'",
     "output_type": "error",
     "traceback": [
      "\u001b[0;31m---------------------------------------------------------------------------\u001b[0m",
      "\u001b[0;31mTypeError\u001b[0m                                 Traceback (most recent call last)",
      "\u001b[0;32m<ipython-input-7-06bbf110791f>\u001b[0m in \u001b[0;36m<module>\u001b[0;34m()\u001b[0m\n\u001b[1;32m      5\u001b[0m \u001b[0mvx1\u001b[0m \u001b[0;34m=\u001b[0m \u001b[0msubstitute\u001b[0m\u001b[0;34m(\u001b[0m\u001b[0mvx1\u001b[0m\u001b[0;34m,\u001b[0m \u001b[0;34m[\u001b[0m\u001b[0md1\u001b[0m\u001b[0;34m,\u001b[0m \u001b[0my\u001b[0m\u001b[0;34m,\u001b[0m \u001b[0mH\u001b[0m\u001b[0;34m,\u001b[0m \u001b[0mL\u001b[0m\u001b[0;34m]\u001b[0m\u001b[0;34m,\u001b[0m \u001b[0;34m[\u001b[0m\u001b[0md1_\u001b[0m\u001b[0;34m,\u001b[0m \u001b[0;36m0\u001b[0m\u001b[0;34m,\u001b[0m \u001b[0mH_\u001b[0m\u001b[0;34m,\u001b[0m \u001b[0mL_\u001b[0m\u001b[0;34m]\u001b[0m\u001b[0;34m)\u001b[0m\u001b[0;34m\u001b[0m\u001b[0m\n\u001b[1;32m      6\u001b[0m \u001b[0mprint\u001b[0m\u001b[0;34m(\u001b[0m\u001b[0;34m\"vx1 = \"\u001b[0m\u001b[0;34m,\u001b[0m \u001b[0mvx1\u001b[0m\u001b[0;34m)\u001b[0m\u001b[0;34m\u001b[0m\u001b[0m\n\u001b[0;32m----> 7\u001b[0;31m \u001b[0mp1\u001b[0m \u001b[0;34m=\u001b[0m \u001b[0msympy\u001b[0m\u001b[0;34m.\u001b[0m\u001b[0mplotting\u001b[0m\u001b[0;34m.\u001b[0m\u001b[0mplot\u001b[0m\u001b[0;34m(\u001b[0m\u001b[0mvx1\u001b[0m\u001b[0;34m,\u001b[0m \u001b[0mxlim\u001b[0m\u001b[0;34m=\u001b[0m\u001b[0;34m(\u001b[0m\u001b[0;34m-\u001b[0m\u001b[0;34m(\u001b[0m\u001b[0mL_\u001b[0m \u001b[0;34m+\u001b[0m \u001b[0;36m1\u001b[0m\u001b[0;34m)\u001b[0m\u001b[0;34m,\u001b[0m \u001b[0;34m(\u001b[0m\u001b[0mL_\u001b[0m \u001b[0;34m+\u001b[0m \u001b[0;36m1\u001b[0m\u001b[0;34m)\u001b[0m\u001b[0;34m)\u001b[0m\u001b[0;34m,\u001b[0m \u001b[0mylim\u001b[0m\u001b[0;34m=\u001b[0m\u001b[0;34m(\u001b[0m\u001b[0;34m-\u001b[0m\u001b[0;34m(\u001b[0m\u001b[0mH_\u001b[0m \u001b[0;34m+\u001b[0m \u001b[0;36m1\u001b[0m\u001b[0;34m)\u001b[0m\u001b[0;34m,\u001b[0m \u001b[0;34m(\u001b[0m\u001b[0mH_\u001b[0m \u001b[0;34m+\u001b[0m \u001b[0;36m1\u001b[0m\u001b[0;34m)\u001b[0m\u001b[0;34m)\u001b[0m\u001b[0;34m,\u001b[0m \u001b[0mylabel\u001b[0m\u001b[0;34m=\u001b[0m\u001b[0;34m'vx'\u001b[0m\u001b[0;34m)\u001b[0m\u001b[0;34m\u001b[0m\u001b[0m\n\u001b[0m",
      "\u001b[0;32m/home/freemahn/build-repos/sympy/sympy/plotting/plot.py\u001b[0m in \u001b[0;36mplot\u001b[0;34m(*args, **kwargs)\u001b[0m\n\u001b[1;32m   1289\u001b[0m     \u001b[0mseries\u001b[0m \u001b[0;34m=\u001b[0m \u001b[0;34m[\u001b[0m\u001b[0;34m]\u001b[0m\u001b[0;34m\u001b[0m\u001b[0m\n\u001b[1;32m   1290\u001b[0m     \u001b[0mplot_expr\u001b[0m \u001b[0;34m=\u001b[0m \u001b[0mcheck_arguments\u001b[0m\u001b[0;34m(\u001b[0m\u001b[0margs\u001b[0m\u001b[0;34m,\u001b[0m \u001b[0;36m1\u001b[0m\u001b[0;34m,\u001b[0m \u001b[0;36m1\u001b[0m\u001b[0;34m)\u001b[0m\u001b[0;34m\u001b[0m\u001b[0m\n\u001b[0;32m-> 1291\u001b[0;31m     \u001b[0mseries\u001b[0m \u001b[0;34m=\u001b[0m \u001b[0;34m[\u001b[0m\u001b[0mLineOver1DRangeSeries\u001b[0m\u001b[0;34m(\u001b[0m\u001b[0;34m*\u001b[0m\u001b[0marg\u001b[0m\u001b[0;34m,\u001b[0m \u001b[0;34m**\u001b[0m\u001b[0mkwargs\u001b[0m\u001b[0;34m)\u001b[0m \u001b[0;32mfor\u001b[0m \u001b[0marg\u001b[0m \u001b[0;32min\u001b[0m \u001b[0mplot_expr\u001b[0m\u001b[0;34m]\u001b[0m\u001b[0;34m\u001b[0m\u001b[0m\n\u001b[0m\u001b[1;32m   1292\u001b[0m \u001b[0;34m\u001b[0m\u001b[0m\n\u001b[1;32m   1293\u001b[0m     \u001b[0mplots\u001b[0m \u001b[0;34m=\u001b[0m \u001b[0mPlot\u001b[0m\u001b[0;34m(\u001b[0m\u001b[0;34m*\u001b[0m\u001b[0mseries\u001b[0m\u001b[0;34m,\u001b[0m \u001b[0;34m**\u001b[0m\u001b[0mkwargs\u001b[0m\u001b[0;34m)\u001b[0m\u001b[0;34m\u001b[0m\u001b[0m\n",
      "\u001b[0;32m/home/freemahn/build-repos/sympy/sympy/plotting/plot.py\u001b[0m in \u001b[0;36m<listcomp>\u001b[0;34m(.0)\u001b[0m\n\u001b[1;32m   1289\u001b[0m     \u001b[0mseries\u001b[0m \u001b[0;34m=\u001b[0m \u001b[0;34m[\u001b[0m\u001b[0;34m]\u001b[0m\u001b[0;34m\u001b[0m\u001b[0m\n\u001b[1;32m   1290\u001b[0m     \u001b[0mplot_expr\u001b[0m \u001b[0;34m=\u001b[0m \u001b[0mcheck_arguments\u001b[0m\u001b[0;34m(\u001b[0m\u001b[0margs\u001b[0m\u001b[0;34m,\u001b[0m \u001b[0;36m1\u001b[0m\u001b[0;34m,\u001b[0m \u001b[0;36m1\u001b[0m\u001b[0;34m)\u001b[0m\u001b[0;34m\u001b[0m\u001b[0m\n\u001b[0;32m-> 1291\u001b[0;31m     \u001b[0mseries\u001b[0m \u001b[0;34m=\u001b[0m \u001b[0;34m[\u001b[0m\u001b[0mLineOver1DRangeSeries\u001b[0m\u001b[0;34m(\u001b[0m\u001b[0;34m*\u001b[0m\u001b[0marg\u001b[0m\u001b[0;34m,\u001b[0m \u001b[0;34m**\u001b[0m\u001b[0mkwargs\u001b[0m\u001b[0;34m)\u001b[0m \u001b[0;32mfor\u001b[0m \u001b[0marg\u001b[0m \u001b[0;32min\u001b[0m \u001b[0mplot_expr\u001b[0m\u001b[0;34m]\u001b[0m\u001b[0;34m\u001b[0m\u001b[0m\n\u001b[0m\u001b[1;32m   1292\u001b[0m \u001b[0;34m\u001b[0m\u001b[0m\n\u001b[1;32m   1293\u001b[0m     \u001b[0mplots\u001b[0m \u001b[0;34m=\u001b[0m \u001b[0mPlot\u001b[0m\u001b[0;34m(\u001b[0m\u001b[0;34m*\u001b[0m\u001b[0mseries\u001b[0m\u001b[0;34m,\u001b[0m \u001b[0;34m**\u001b[0m\u001b[0mkwargs\u001b[0m\u001b[0;34m)\u001b[0m\u001b[0;34m\u001b[0m\u001b[0m\n",
      "\u001b[0;31mTypeError\u001b[0m: __init__() missing 1 required positional argument: 'var_start_end'"
     ]
    }
   ],
   "source": [
    "print('1. Building plot vx')\n",
    "vx1 = substitute(vx, [a,b,v0], result[0])\n",
    "print(vx1)\n",
    "print('=' * 100)\n",
    "vx1 = substitute(vx1, [d1, y, H, L], [d1_, 0, H_, L_])\n",
    "print(\"vx1 = \", vx1)\n",
    "p1 = sympy.plotting.plot(vx1, xlim=(-(L_ + 1), (L_ + 1)), ylim=(-(H_ + 1), (H_ + 1)), ylabel='vx')"
   ]
  },
  {
   "cell_type": "code",
   "execution_count": null,
   "metadata": {
    "collapsed": false
   },
   "outputs": [],
   "source": [
    "# print('2. Building plot vy')\n",
    "# vy1 = substitute(vy, [a,b,v0,a1,b1,v1], result)\n",
    "# print(vy1)\n",
    "# print('=' * 100)\n",
    "# vy1 = substitute(vy1, [d1, x, H, L], [d1_, 0, H_, L_])\n",
    "# # vy1 = substitute(vy1, [y], [x])\n",
    "# print(\"vy1 = \", vy1)\n",
    "# p2 = sympy.plotting.plot(vy1, xlim=(-(L_ + 1), (L_ + 1)), ylim=(-(H_ + 1), (H_ + 1)), ylabel='vy')"
   ]
  },
  {
   "cell_type": "code",
   "execution_count": null,
   "metadata": {
    "collapsed": false
   },
   "outputs": [],
   "source": [
    "vx2 = substitute(vx, [a,b,v0,a1,b1,v1], result)\n",
    "vy2 = substitute(vy, [a,b,v0,a1,b1,v1], result)\n",
    "vx2 = substitute(vx2, [d1, m, L, H], [d1_, m_, L_, H_])\n",
    "vy2 = substitute(vy2, [d1, m, L, H], [d1_, m_, L_, H_])\n",
    "pprint(diff(vx2, x))\n",
    "print('-'* 50)\n",
    "pprint(diff(vy2, y))\n",
    "print('='* 50)\n",
    "pprint(simplify(diff(vx, x)))\n",
    "print('-'* 50)\n",
    "pprint(simplify(diff(vy, y)))"
   ]
  },
  {
   "cell_type": "code",
   "execution_count": null,
   "metadata": {
    "collapsed": false
   },
   "outputs": [],
   "source": []
  }
 ],
 "metadata": {
  "kernelspec": {
   "display_name": "Python 3",
   "language": "python",
   "name": "python3"
  },
  "language_info": {
   "codemirror_mode": {
    "name": "ipython",
    "version": 3
   },
   "file_extension": ".py",
   "mimetype": "text/x-python",
   "name": "python",
   "nbconvert_exporter": "python",
   "pygments_lexer": "ipython3",
   "version": "3.6.0"
  }
 },
 "nbformat": 4,
 "nbformat_minor": 2
}
