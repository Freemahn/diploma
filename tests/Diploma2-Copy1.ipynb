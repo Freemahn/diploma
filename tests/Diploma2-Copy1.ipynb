{
 "cells": [
  {
   "cell_type": "code",
   "execution_count": 1,
   "metadata": {
    "collapsed": true
   },
   "outputs": [],
   "source": [
    "from sympy import *\n",
    "import sympy\n",
    "import random\n",
    "from sympy.core.symbol import symbols\n",
    "from sympy.solvers.solveset import nonlinsolve\n",
    "from lib import *\n",
    "init_printing()\n",
    "a, b, c, d,d1,d2, d3 = symbols('a, b, c, d, d1, d2, d3')\n",
    "a0, a1,a2,a3,  b1, c1 = symbols('a0, a1, a2, a3, b1, c1')\n",
    "m, L, H0 = symbols('m, L, H0')\n",
    "x, y = symbols('x, y')\n",
    "v0, v1 = symbols('v0, v1')"
   ]
  },
  {
   "cell_type": "code",
   "execution_count": 2,
   "metadata": {
    "collapsed": false
   },
   "outputs": [
    {
     "name": "stdout",
     "output_type": "stream",
     "text": [
      "vx= v0*(H0**2 - y**2) + (1 - x**2/L**2)*(H0**2 - y**2)*(a0 + a1*x)\n",
      "p= d1*x\n",
      "vx(0, y) a0*(H0**2 - y**2) + v0*(H0**2 - y**2)\n",
      "vx(L, y) v0*(H0**2 - y**2)\n",
      "H(0) H0**2\n",
      "H(L) H0**2\n"
     ]
    }
   ],
   "source": [
    "H0_, L_ = 1, 10\n",
    "m_, v0_ = 1, 2\n",
    "H = H0# -  0.1*(2* x / L_  - 1) ** 2\n",
    "# v1 = v0 * 12/5\n",
    "vx =  v0 * (H**2 - y**2) + (1-x**2/L**2)*(H**2 - y**2) * (a0 + a1 * x)\n",
    "p = d1 * x\n",
    "print(\"vx=\", vx)\n",
    "print(\"p=\", p)\n",
    "# checking profiles\n",
    "print(\"vx(0, y)\", substitute(vx, [x], [0]))\n",
    "print(\"vx(L, y)\", substitute(vx, [x], [L]))\n",
    "print(\"H(0)\", substitute(H ** 2, [x], [0]))\n",
    "print(\"H(L)\", substitute(H ** 2, [x], [L]))"
   ]
  },
  {
   "cell_type": "code",
   "execution_count": 3,
   "metadata": {
    "collapsed": false
   },
   "outputs": [
    {
     "name": "stdout",
     "output_type": "stream",
     "text": [
      "==================================================\n"
     ]
    }
   ],
   "source": [
    "dxvx = diff(vx, x)\n",
    "dyvy = - dxvx\n",
    "# print(\"dyvy=\", dyvy)\n",
    "# vy = integrate(dyvy, y)\n",
    "# print(\"vy=\", vy)\n",
    "vy = 0\n",
    "print('='*50)"
   ]
  },
  {
   "cell_type": "code",
   "execution_count": 4,
   "metadata": {
    "collapsed": false
   },
   "outputs": [
    {
     "name": "stdout",
     "output_type": "stream",
     "text": [
      "f= -d1**2*x**2 + 2*m**2*(-2*v0*y - 2*y*(1 - x**2/L**2)*(a0 + a1*x))**2 + (-d1*x + m*(2*a1*(1 - x**2/L**2)*(H0**2 - y**2) - 4*x*(H0**2 - y**2)*(a0 + a1*x)/L**2))**2\n",
      "1. Integrating ...\n",
      "2. Integrating ...\n",
      "g=       2                                  2       \n",
      "4352⋅a₀    640⋅a₀⋅d₁   2560⋅a₀   277504⋅a₁    1280\n",
      "──────── + ───────── + ─────── + ────────── + ────\n",
      "   75          9          9         315        3  \n",
      "==================================================\n"
     ]
    }
   ],
   "source": [
    "pxx = -p * 1 + m * (diff(vx, x) + diff(vx, x))\n",
    "pxy = -p * 0 + m * (diff(vx, y) + diff(vy, x))\n",
    "pyy = -p * 1 + m * (diff(vy, y) + diff(vy, y))\n",
    "p2ij = pxx ** 2 + 2 * pxy ** 2 + pyy ** 2\n",
    "f = p2ij - 2 * (p ** 2) \n",
    "# f = substitute(f, [v0, m, H0, L], [v0_, m_, H0_, L_])\n",
    "print(\"f=\", f)\n",
    "print('1. Integrating ...')\n",
    "fx = integrate(f, (y, -H, H)) \n",
    "# fx = substitute(fx, [v0, m, H0, L], [v0_, m_, H0_, L_])\n",
    "# print(\"fx=\", fx)\n",
    "print('2. Integrating ...')\n",
    "g = integrate(fx, (x, -L, L))\n",
    "g = substitute(g, [v0, m, H0, L], [v0_, m_, H0_, L_])\n",
    "print('g=', end='')\n",
    "pprint(g)\n",
    "print('='*50)"
   ]
  },
  {
   "cell_type": "code",
   "execution_count": 5,
   "metadata": {
    "collapsed": false
   },
   "outputs": [
    {
     "name": "stdout",
     "output_type": "stream",
     "text": [
      "d_a0= 8704*a0/75 + 640*d1/9 + 2560/9\n",
      "d_a1= 555008*a1/315\n",
      "d_a2 0\n",
      "d_a3 0\n",
      "d_d1= 640*a0/9\n",
      "d_d2= 0\n",
      "p2= L*d1 - 1\n",
      "====================================================================================================\n"
     ]
    }
   ],
   "source": [
    "g = substitute(g, [v0, m, H0, L], [v0_, m_, H0_, L_])\n",
    "d_a0 = diff(g, a0)\n",
    "d_a1 = diff(g, a1)\n",
    "d_a2 = diff(g, a2)\n",
    "d_a3 = diff(g, a3)\n",
    "d_d1 = diff(g, d1)\n",
    "d_d2 = diff(g, d2)\n",
    "# p2 = substitute(p,[x], [L_]) - 1\n",
    "p2 = substitute(p,[x], [L]) - 1\n",
    "p1 = substitute(p, [x], [0])\n",
    "print(\"d_a0=\", d_a0)\n",
    "print(\"d_a1=\", d_a1)\n",
    "print(\"d_a2\", d_a2)\n",
    "print(\"d_a3\", d_a3)\n",
    "\n",
    "print(\"d_d1=\", d_d1)\n",
    "print(\"d_d2=\", d_d2)\n",
    "print(\"p2=\", p2)\n",
    "print('=' * 100)"
   ]
  },
  {
   "cell_type": "code",
   "execution_count": 6,
   "metadata": {
    "collapsed": false
   },
   "outputs": [
    {
     "name": "stdout",
     "output_type": "stream",
     "text": [
      "1. Solving all partial derivatives equal to 0\n",
      "--------------------------------------------------\n",
      "Solving for variables [a0, a1, d1]\n",
      "Amount of solutions 1\n",
      "New solution: \n",
      "a0 =0\n",
      "a1 =0\n",
      "d1 =-4.00000000000000\n",
      "==================================================\n",
      "1. Building plot\n",
      "====================================================================================================\n",
      "vx =  v0*(H0**2 - y**2) + (1 - x**2/L**2)*(H0**2 - y**2)*(a0 + a1*x)\n",
      "vx1 =  -2*y**2 + 2\n",
      "----------------------------------------------------------------------------------------------------\n",
      "vx1 =  2\n",
      "====================================================================================================\n"
     ]
    },
    {
     "ename": "TypeError",
     "evalue": "__init__() missing 1 required positional argument: 'var_start_end'",
     "output_type": "error",
     "traceback": [
      "\u001b[0;31m---------------------------------------------------------------------------\u001b[0m",
      "\u001b[0;31mTypeError\u001b[0m                                 Traceback (most recent call last)",
      "\u001b[0;32m<ipython-input-6-ebc67be452e0>\u001b[0m in \u001b[0;36m<module>\u001b[0;34m()\u001b[0m\n\u001b[1;32m     16\u001b[0m     \u001b[0mprint\u001b[0m\u001b[0;34m(\u001b[0m\u001b[0;34m'='\u001b[0m \u001b[0;34m*\u001b[0m \u001b[0;36m100\u001b[0m\u001b[0;34m)\u001b[0m\u001b[0;34m\u001b[0m\u001b[0m\n\u001b[1;32m     17\u001b[0m \u001b[0;34m\u001b[0m\u001b[0m\n\u001b[0;32m---> 18\u001b[0;31m     \u001b[0mp1\u001b[0m \u001b[0;34m=\u001b[0m \u001b[0msympy\u001b[0m\u001b[0;34m.\u001b[0m\u001b[0mplotting\u001b[0m\u001b[0;34m.\u001b[0m\u001b[0mplot\u001b[0m\u001b[0;34m(\u001b[0m\u001b[0mvx1\u001b[0m\u001b[0;34m,\u001b[0m \u001b[0mxlim\u001b[0m\u001b[0;34m=\u001b[0m\u001b[0;34m(\u001b[0m\u001b[0;34m-\u001b[0m\u001b[0mL_\u001b[0m\u001b[0;34m,\u001b[0m \u001b[0;34m(\u001b[0m\u001b[0mL_\u001b[0m \u001b[0;34m+\u001b[0m \u001b[0;36m0.1\u001b[0m\u001b[0;34m)\u001b[0m\u001b[0;34m)\u001b[0m\u001b[0;34m,\u001b[0m \u001b[0mylim\u001b[0m\u001b[0;34m=\u001b[0m\u001b[0;34m(\u001b[0m\u001b[0;34m-\u001b[0m\u001b[0;34m(\u001b[0m\u001b[0mH0_\u001b[0m \u001b[0;34m+\u001b[0m \u001b[0;36m1\u001b[0m\u001b[0;34m)\u001b[0m\u001b[0;34m,\u001b[0m \u001b[0;34m(\u001b[0m\u001b[0mH0_\u001b[0m\u001b[0;34m+\u001b[0m\u001b[0;36m1\u001b[0m\u001b[0;34m)\u001b[0m\u001b[0;34m)\u001b[0m\u001b[0;34m,\u001b[0m \u001b[0mylabel\u001b[0m\u001b[0;34m=\u001b[0m\u001b[0;34m'vx'\u001b[0m\u001b[0;34m)\u001b[0m\u001b[0;34m\u001b[0m\u001b[0m\n\u001b[0m",
      "\u001b[0;32m/home/freemahn/build-repos/sympy/sympy/plotting/plot.py\u001b[0m in \u001b[0;36mplot\u001b[0;34m(*args, **kwargs)\u001b[0m\n\u001b[1;32m   1289\u001b[0m     \u001b[0mseries\u001b[0m \u001b[0;34m=\u001b[0m \u001b[0;34m[\u001b[0m\u001b[0;34m]\u001b[0m\u001b[0;34m\u001b[0m\u001b[0m\n\u001b[1;32m   1290\u001b[0m     \u001b[0mplot_expr\u001b[0m \u001b[0;34m=\u001b[0m \u001b[0mcheck_arguments\u001b[0m\u001b[0;34m(\u001b[0m\u001b[0margs\u001b[0m\u001b[0;34m,\u001b[0m \u001b[0;36m1\u001b[0m\u001b[0;34m,\u001b[0m \u001b[0;36m1\u001b[0m\u001b[0;34m)\u001b[0m\u001b[0;34m\u001b[0m\u001b[0m\n\u001b[0;32m-> 1291\u001b[0;31m     \u001b[0mseries\u001b[0m \u001b[0;34m=\u001b[0m \u001b[0;34m[\u001b[0m\u001b[0mLineOver1DRangeSeries\u001b[0m\u001b[0;34m(\u001b[0m\u001b[0;34m*\u001b[0m\u001b[0marg\u001b[0m\u001b[0;34m,\u001b[0m \u001b[0;34m**\u001b[0m\u001b[0mkwargs\u001b[0m\u001b[0;34m)\u001b[0m \u001b[0;32mfor\u001b[0m \u001b[0marg\u001b[0m \u001b[0;32min\u001b[0m \u001b[0mplot_expr\u001b[0m\u001b[0;34m]\u001b[0m\u001b[0;34m\u001b[0m\u001b[0m\n\u001b[0m\u001b[1;32m   1292\u001b[0m \u001b[0;34m\u001b[0m\u001b[0m\n\u001b[1;32m   1293\u001b[0m     \u001b[0mplots\u001b[0m \u001b[0;34m=\u001b[0m \u001b[0mPlot\u001b[0m\u001b[0;34m(\u001b[0m\u001b[0;34m*\u001b[0m\u001b[0mseries\u001b[0m\u001b[0;34m,\u001b[0m \u001b[0;34m**\u001b[0m\u001b[0mkwargs\u001b[0m\u001b[0;34m)\u001b[0m\u001b[0;34m\u001b[0m\u001b[0m\n",
      "\u001b[0;32m/home/freemahn/build-repos/sympy/sympy/plotting/plot.py\u001b[0m in \u001b[0;36m<listcomp>\u001b[0;34m(.0)\u001b[0m\n\u001b[1;32m   1289\u001b[0m     \u001b[0mseries\u001b[0m \u001b[0;34m=\u001b[0m \u001b[0;34m[\u001b[0m\u001b[0;34m]\u001b[0m\u001b[0;34m\u001b[0m\u001b[0m\n\u001b[1;32m   1290\u001b[0m     \u001b[0mplot_expr\u001b[0m \u001b[0;34m=\u001b[0m \u001b[0mcheck_arguments\u001b[0m\u001b[0;34m(\u001b[0m\u001b[0margs\u001b[0m\u001b[0;34m,\u001b[0m \u001b[0;36m1\u001b[0m\u001b[0;34m,\u001b[0m \u001b[0;36m1\u001b[0m\u001b[0;34m)\u001b[0m\u001b[0;34m\u001b[0m\u001b[0m\n\u001b[0;32m-> 1291\u001b[0;31m     \u001b[0mseries\u001b[0m \u001b[0;34m=\u001b[0m \u001b[0;34m[\u001b[0m\u001b[0mLineOver1DRangeSeries\u001b[0m\u001b[0;34m(\u001b[0m\u001b[0;34m*\u001b[0m\u001b[0marg\u001b[0m\u001b[0;34m,\u001b[0m \u001b[0;34m**\u001b[0m\u001b[0mkwargs\u001b[0m\u001b[0;34m)\u001b[0m \u001b[0;32mfor\u001b[0m \u001b[0marg\u001b[0m \u001b[0;32min\u001b[0m \u001b[0mplot_expr\u001b[0m\u001b[0;34m]\u001b[0m\u001b[0;34m\u001b[0m\u001b[0m\n\u001b[0m\u001b[1;32m   1292\u001b[0m \u001b[0;34m\u001b[0m\u001b[0m\n\u001b[1;32m   1293\u001b[0m     \u001b[0mplots\u001b[0m \u001b[0;34m=\u001b[0m \u001b[0mPlot\u001b[0m\u001b[0;34m(\u001b[0m\u001b[0;34m*\u001b[0m\u001b[0mseries\u001b[0m\u001b[0;34m,\u001b[0m \u001b[0;34m**\u001b[0m\u001b[0mkwargs\u001b[0m\u001b[0;34m)\u001b[0m\u001b[0;34m\u001b[0m\u001b[0m\n",
      "\u001b[0;31mTypeError\u001b[0m: __init__() missing 1 required positional argument: 'var_start_end'"
     ]
    }
   ],
   "source": [
    "print('1. Solving all partial derivatives equal to 0')\n",
    "variables =[a0,a1, d1]\n",
    "result = solve([d_a0,d_a1,d_a2, d_a3, d_d1], variables)\n",
    "if len(result) == 0:\n",
    "    print('No solutions!')\n",
    "else:\n",
    "    print('1. Building plot')\n",
    "    vx1 = substitute(vx, variables, result[0])\n",
    "    print('=' * 100)\n",
    "    vx1 = substitute(vx1, [v0, H0, L], [v0_, H0_, L_])\n",
    "    print(\"vx = \", vx)\n",
    "    print(\"vx1 = \", vx1)\n",
    "    print('-' * 100)\n",
    "    vx1 = substitute(vx1, [y], [0])\n",
    "    print(\"vx1 = \", vx1)\n",
    "    print('=' * 100)\n",
    "   \n",
    "    p1 = sympy.plotting.plot(vx1, xlim=(-L_, (L_ + 0.1)), ylim=(-(H0_ + 1), (H0_+1)), ylabel='vx')\n"
   ]
  },
  {
   "cell_type": "code",
   "execution_count": null,
   "metadata": {
    "collapsed": true
   },
   "outputs": [],
   "source": []
  },
  {
   "cell_type": "code",
   "execution_count": null,
   "metadata": {
    "collapsed": true
   },
   "outputs": [],
   "source": []
  }
 ],
 "metadata": {
  "kernelspec": {
   "display_name": "Python 3",
   "language": "python",
   "name": "python3"
  },
  "language_info": {
   "codemirror_mode": {
    "name": "ipython",
    "version": 3
   },
   "file_extension": ".py",
   "mimetype": "text/x-python",
   "name": "python",
   "nbconvert_exporter": "python",
   "pygments_lexer": "ipython3",
   "version": "3.6.0"
  }
 },
 "nbformat": 4,
 "nbformat_minor": 2
}
