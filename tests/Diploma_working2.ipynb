{
 "cells": [
  {
   "cell_type": "code",
   "execution_count": 1,
   "metadata": {
    "collapsed": true
   },
   "outputs": [],
   "source": [
    "from sympy import *\n",
    "import sympy\n",
    "import random\n",
    "from sympy.core.symbol import symbols\n",
    "from sympy.solvers.solveset import nonlinsolve\n",
    "from lib import *\n",
    "init_printing()\n",
    "a, b, c, d,d1,d2, d3 = symbols('a, b, c, d, d1, d2, d3')\n",
    "a0, a1,a2,a3,  b1, c1 = symbols('a0, a1, a2, a3, b1, c1')\n",
    "m, L, H0 = symbols('m, L, H0')\n",
    "x, y = symbols('x, y')\n",
    "v0, v1 = symbols('v0, v1')"
   ]
  },
  {
   "cell_type": "code",
   "execution_count": 2,
   "metadata": {
    "collapsed": false
   },
   "outputs": [
    {
     "name": "stdout",
     "output_type": "stream",
     "text": [
      "vx= a0*(1 - x**2/L**2)*(-y**2 + (H0 - 0.1*(x/5 - 1)**2)**2) + v0*(1 - x/L) + v1*x*(-y**2 + (H0 - 0.1*(x/5 - 1)**2)**2)/L\n",
      "p= -d1*x + d2*x**2\n",
      "vx(0, y) a0*(-y**2 + (H0 - 0.1)**2) + v0\n",
      "vx(L, y) v1*(-y**2 + (H0 - 0.1*(L/5 - 1)**2)**2)\n",
      "H(0) (H0 - 0.1)**2\n",
      "H(L) (H0 - 0.1*(L/5 - 1)**2)**2\n"
     ]
    }
   ],
   "source": [
    "H0_, L_ = 1, 10\n",
    "m_, v0_ = 1, 1\n",
    "H = H0 -  0.1 *(2 * x / L_  - 1) ** 2\n",
    "# v1 = v0 * 12/5\n",
    "# vx = (v0 + ((a0  + a1 * x) **  2) * x * (L - x)) * (H ** 2 - y ** 2)\n",
    "vx =  v0 * (1- x/L) + v1 *(H**2-y**2)*(x/L)  + (1-x**2/L**2)*(H ** 2 - y ** 2) * (a0)\n",
    "p = - d1 * x + d2 * x **2\n",
    "print(\"vx=\", vx)\n",
    "print(\"p=\", p)\n",
    "# checking profiles\n",
    "print(\"vx(0, y)\", substitute(vx, [x], [0]))  \n",
    "print(\"vx(L, y)\", substitute(vx, [x], [L]))\n",
    "print(\"H(0)\", substitute(H ** 2, [x], [0]))\n",
    "print(\"H(L)\", substitute(H ** 2, [x], [L]))"
   ]
  },
  {
   "cell_type": "code",
   "execution_count": 3,
   "metadata": {
    "collapsed": false
   },
   "outputs": [
    {
     "name": "stdout",
     "output_type": "stream",
     "text": [
      "vy= 0.333333333333333*y**3*(1.0*L*v1 - 2.0*a0*x)/L**2 + 1.0*y*(-1.0*H0**2*L*v1 + 2.0*H0**2*a0*x + 0.016*H0*L**2*a0*x - 0.08*H0*L**2*a0 + 0.024*H0*L*v1*x**2 - 0.16*H0*L*v1*x + 0.2*H0*L*v1 - 0.032*H0*a0*x**3 + 0.24*H0*a0*x**2 - 0.4*H0*a0*x - 6.4e-5*L**2*a0*x**3 + 0.00096*L**2*a0*x**2 - 0.0048*L**2*a0*x + 0.008*L**2*a0 + 1.0*L*v0 - 8.0e-5*L*v1*x**4 + 0.00128*L*v1*x**3 - 0.0072*L*v1*x**2 + 0.016*L*v1*x - 0.01*L*v1 + 9.6e-5*a0*x**5 - 0.0016*a0*x**4 + 0.0096*a0*x**3 - 0.024*a0*x**2 + 0.02*a0*x)/L**2\n",
      "==================================================\n"
     ]
    }
   ],
   "source": [
    "dxvx = diff(vx, x)\n",
    "dyvy = - dxvx\n",
    "# print(\"dyvy=\", dyvy)\n",
    "vy = integrate(dyvy, y)\n",
    "print(\"vy=\", vy)\n",
    "# vy = 0\n",
    "print('='*50)"
   ]
  },
  {
   "cell_type": "code",
   "execution_count": 4,
   "metadata": {
    "collapsed": false
   },
   "outputs": [
    {
     "name": "stdout",
     "output_type": "stream",
     "text": [
      "f= -2*(-d1*x + d2*x**2)**2 + 2*(-0.00666666666666667*a0*y**3 - 2*a0*y*(-x**2/100 + 1) - v1*x*y/5 + 0.01*y*(0.00048*a0*x**4 - 0.0064*a0*x**3 - 0.0864*a0*x**2 + 0.624*a0*x + 2.74*a0 - 0.0032*v1*x**3 + 0.0384*v1*x**2 + 0.336*v1*x - 1.44*v1))**2 + (-a0*x*(-y**2 + (-0.1*(x/5 - 1)**2 + 1)**2)/25 + 2*a0*(-0.016*x + 0.08)*(-x**2/100 + 1)*(-0.1*(x/5 - 1)**2 + 1) + d1*x - d2*x**2 + v1*x*(-0.016*x + 0.08)*(-0.1*(x/5 - 1)**2 + 1)/5 + v1*(-y**2 + (-0.1*(x/5 - 1)**2 + 1)**2)/5 - 1/5)**2 + (1.92e-6*a0*x**5 - 3.2e-5*a0*x**4 - 0.000576*a0*x**3 + 0.00624*a0*x**2 + 0.0548*a0*x - 0.144*a0 + d1*x - d2*x**2 - 1.6e-5*v1*x**4 + 0.000256*v1*x**3 + 0.00336*v1*x**2 - 0.0288*v1*x - 0.162*v1 + 0.02*y**2*(-2.0*a0*x + 10.0*v1) + 0.2)**2\n",
      "1. Integrating ...\n",
      "fx= 1.26984126984127e-5*a0**2*(-0.1*(x/5 - 1)**2 + 1)**7 - 1.26984126984127e-5*a0**2*(0.1*(x/5 - 1)**2 - 1)**7 + (-0.1*(x/5 - 1)**2 + 1)**5*(-2.56e-8*a0**2*x**4 + 3.41333333333333e-7*a0**2*x**3 + 0.000537941333333333*a0**2*x**2 - 3.328e-5*a0**2*x + 0.0105205333333333*a0**2 + 1.70666666666667e-7*a0*v1*x**3 - 2.048e-6*a0*v1*x**2 - 0.00535125333333333*a0*v1*x + 7.68e-5*a0*v1 + 0.016*v1**2) + (-0.1*(x/5 - 1)**2 + 1)**3*(1.536e-11*a0**2*x**8 - 4.096e-10*a0**2*x**7 + 2.28010666666667e-8*a0**2*x**6 + 1.13664e-7*a0**2*x**5 + 0.000261687210666667*a0**2*x**4 - 5.25994666666673e-6*a0**2*x**3 - 0.0532269397333333*a0**2*x**2 - 0.008732032*a0**2*x + 2.59410050666667*a0**2 - 2.048e-10*a0*v1*x**7 + 5.18826666666667e-9*a0*v1*x**6 - 7.424e-7*a0*v1*x**5 + 4.032512e-6*a0*v1*x**4 - 0.00526141610666667*a0*v1*x**3 + 0.0001865728*a0*v1*x**2 + 0.540322944*a0*v1*x - 0.000526080000000005*a0*v1 - 0.0106666666666667*a0*x + 6.82666666666667e-10*v1**2*x**6 - 1.6384e-8*v1**2*x**5 + 4.22161066666667e-6*v1**2*x**4 - 3.17986133333333e-5*v1**2*x**3 + 0.0266668202666667*v1**2*x**2 - 0.003904512*v1**2*x - 0.04306176*v1**2 + 0.0533333333333333*v1) + (-0.1*(x/5 - 1)**2 + 1)*(7.3728e-12*a0**2*x**10 - 2.4576e-10*a0**2*x**9 - 2.37568e-9*a0**2*x**8 + 1.216512e-7*a0**2*x**7 + 2.85696e-7*a0**2*x**6 - 2.249728e-5*a0**2*x**5 - 2.9952e-5*a0**2*x**4 + 0.001699584*a0**2*x**3 + 0.00241184*a0**2*x**2 - 0.0315648*a0**2*x + 0.041472*a0**2 + 4.2351647362715e-22*a0*d1*x**6 + 6.7762635780344e-21*a0*d1*x**5 + 2.16840434497101e-19*a0*d1*x**4 - 8.67361737988404e-19*a0*d1*x**3 + 6.93889390390723e-18*a0*d1*x**2 + 5.55111512312578e-17*a0*d1*x - 4.2351647362715e-22*a0*d2*x**7 - 6.7762635780344e-21*a0*d2*x**6 - 2.16840434497101e-19*a0*d2*x**5 + 8.67361737988404e-19*a0*d2*x**4 - 6.93889390390723e-18*a0*d2*x**3 - 5.55111512312578e-17*a0*d2*x**2 - 1.2288e-10*a0*v1*x**9 + 4.01408e-9*a0*v1*x**8 + 2.99008e-8*a0*v1*x**7 - 1.640448e-6*a0*v1*x**6 - 2.41663999999999e-6*a0*v1*x**5 + 0.000236288*a0*v1*x**4 + 0.000243456*a0*v1*x**3 - 0.01229184*a0*v1*x**2 - 0.0189216*a0*v1*x + 0.093312*a0*v1 + 1.536e-6*a0*x**5 - 2.56e-5*a0*x**4 - 0.0004608*a0*x**3 + 0.004992*a0*x**2 + 0.04384*a0*x - 0.1152*a0 - 1.0842021724855e-19*d1*v1*x**4 - 8.67361737988404e-19*d1*v1*x**3 + 1.38777878078145e-17*d1*v1*x**2 + 1.0842021724855e-19*d2*v1*x**5 + 8.67361737988404e-19*d2*v1*x**4 - 1.38777878078145e-17*d2*v1*x**3 + 5.12e-10*v1**2*x**8 - 1.6384e-8*v1**2*x**7 - 8.39679999999999e-8*v1**2*x**6 + 5.28384e-6*v1**2*x**5 + 3.45599999999998e-6*v1**2*x**4 - 0.00055296*v1**2*x**3 - 0.0005184*v1**2*x**2 + 0.0186624*v1**2*x + 0.052488*v1**2 - 1.28e-5*v1*x**4 + 0.0002048*v1*x**3 + 0.002688*v1*x**2 - 0.02304*v1*x - 0.1296*v1 + 0.08) - (0.1*(x/5 - 1)**2 - 1)**5*(-2.56e-8*a0**2*x**4 + 3.41333333333333e-7*a0**2*x**3 + 0.000537941333333333*a0**2*x**2 - 3.328e-5*a0**2*x + 0.0105205333333333*a0**2 + 1.70666666666667e-7*a0*v1*x**3 - 2.048e-6*a0*v1*x**2 - 0.00535125333333333*a0*v1*x + 7.68e-5*a0*v1 + 0.016*v1**2) - (0.1*(x/5 - 1)**2 - 1)**3*(1.536e-11*a0**2*x**8 - 4.096e-10*a0**2*x**7 + 2.28010666666667e-8*a0**2*x**6 + 1.13664e-7*a0**2*x**5 + 0.000261687210666667*a0**2*x**4 - 5.25994666666673e-6*a0**2*x**3 - 0.0532269397333333*a0**2*x**2 - 0.008732032*a0**2*x + 2.59410050666667*a0**2 - 2.048e-10*a0*v1*x**7 + 5.18826666666667e-9*a0*v1*x**6 - 7.424e-7*a0*v1*x**5 + 4.032512e-6*a0*v1*x**4 - 0.00526141610666667*a0*v1*x**3 + 0.0001865728*a0*v1*x**2 + 0.540322944*a0*v1*x - 0.000526080000000005*a0*v1 - 0.0106666666666667*a0*x + 6.82666666666667e-10*v1**2*x**6 - 1.6384e-8*v1**2*x**5 + 4.22161066666667e-6*v1**2*x**4 - 3.17986133333333e-5*v1**2*x**3 + 0.0266668202666667*v1**2*x**2 - 0.003904512*v1**2*x - 0.04306176*v1**2 + 0.0533333333333333*v1) - (0.1*(x/5 - 1)**2 - 1)*(7.3728e-12*a0**2*x**10 - 2.4576e-10*a0**2*x**9 - 2.37568e-9*a0**2*x**8 + 1.216512e-7*a0**2*x**7 + 2.85696e-7*a0**2*x**6 - 2.249728e-5*a0**2*x**5 - 2.9952e-5*a0**2*x**4 + 0.001699584*a0**2*x**3 + 0.00241184*a0**2*x**2 - 0.0315648*a0**2*x + 0.041472*a0**2 + 4.2351647362715e-22*a0*d1*x**6 + 6.7762635780344e-21*a0*d1*x**5 + 2.16840434497101e-19*a0*d1*x**4 - 8.67361737988404e-19*a0*d1*x**3 + 6.93889390390723e-18*a0*d1*x**2 + 5.55111512312578e-17*a0*d1*x - 4.2351647362715e-22*a0*d2*x**7 - 6.7762635780344e-21*a0*d2*x**6 - 2.16840434497101e-19*a0*d2*x**5 + 8.67361737988404e-19*a0*d2*x**4 - 6.93889390390723e-18*a0*d2*x**3 - 5.55111512312578e-17*a0*d2*x**2 - 1.2288e-10*a0*v1*x**9 + 4.01408e-9*a0*v1*x**8 + 2.99008e-8*a0*v1*x**7 - 1.640448e-6*a0*v1*x**6 - 2.41663999999999e-6*a0*v1*x**5 + 0.000236288*a0*v1*x**4 + 0.000243456*a0*v1*x**3 - 0.01229184*a0*v1*x**2 - 0.0189216*a0*v1*x + 0.093312*a0*v1 + 1.536e-6*a0*x**5 - 2.56e-5*a0*x**4 - 0.0004608*a0*x**3 + 0.004992*a0*x**2 + 0.04384*a0*x - 0.1152*a0 - 1.0842021724855e-19*d1*v1*x**4 - 8.67361737988404e-19*d1*v1*x**3 + 1.38777878078145e-17*d1*v1*x**2 + 1.0842021724855e-19*d2*v1*x**5 + 8.67361737988404e-19*d2*v1*x**4 - 1.38777878078145e-17*d2*v1*x**3 + 5.12e-10*v1**2*x**8 - 1.6384e-8*v1**2*x**7 - 8.39679999999999e-8*v1**2*x**6 + 5.28384e-6*v1**2*x**5 + 3.45599999999998e-6*v1**2*x**4 - 0.00055296*v1**2*x**3 - 0.0005184*v1**2*x**2 + 0.0186624*v1**2*x + 0.052488*v1**2 - 1.28e-5*v1*x**4 + 0.0002048*v1*x**3 + 0.002688*v1*x**2 - 0.02304*v1*x - 0.1296*v1 + 0.08)\n",
      "2. Integrating ...\n",
      "g=                   2                                                          \n",
      "38.5951129774038⋅a₀  + 1.99214490940771e-14⋅a₀⋅d₁ - 1.08325013972071e-13⋅a₀⋅d₂\n",
      "\n",
      "                                                                              \n",
      " + 18.3918990663497⋅a₀⋅v₁ + 1.77635683940025e-15⋅a₀ + 4.10881646167078e-15⋅d₁⋅\n",
      "\n",
      "                                                    2                         \n",
      "v₁ + 2.2997476938664e-14⋅d₂⋅v₁ + 17.6431256358864⋅v₁  - 1.55733333333334⋅v₁ + \n",
      "\n",
      "                \n",
      "2.45333333333333\n",
      "==================================================\n"
     ]
    }
   ],
   "source": [
    "pxx = -p * 1 + m * (diff(vx, x) + diff(vx, x))\n",
    "pxy = -p * 0 + m * (diff(vx, y) + diff(vy, x))\n",
    "pyy = -p * 1 + m * (diff(vy, y) + diff(vy, y))\n",
    "p2ij = pxx ** 2 + 2 * pxy ** 2 + pyy ** 2\n",
    "f = p2ij - 2 * (p ** 2) \n",
    "f = substitute(f, [v0, m, H0, L], [v0_, m_, H0_, L_])\n",
    "print(\"f=\", f)\n",
    "print('1. Integrating ...')\n",
    "fx = integrate(f, (y, -H, H)) \n",
    "fx = substitute(fx, [v0, m, H0, L], [v0_, m_, H0_, L_])\n",
    "print(\"fx=\", fx)\n",
    "print('2. Integrating ...')\n",
    "# g = integrate(fx, (x, -L, L))\n",
    "g = integrate(fx, (x, -L, 0)) +  integrate(fx, (x, 0, L))\n",
    "g = substitute(g, [v0, m, H0, L], [v0_, m_, H0_, L_])\n",
    "print('g=', end='')\n",
    "pprint(g)\n",
    "print('='*50)"
   ]
  },
  {
   "cell_type": "code",
   "execution_count": 5,
   "metadata": {
    "collapsed": false
   },
   "outputs": [
    {
     "name": "stdout",
     "output_type": "stream",
     "text": [
      "d_a0= 77.1902259548076*a0 + 1.99214490940771e-14*d1 - 1.08325013972071e-13*d2 + 18.3918990663497*v1 + 1.77635683940025e-15\n",
      "d_a1= 0\n",
      "d_a2 0\n",
      "d_a3 0\n",
      "d_d1= 1.99214490940771e-14*a0 + 4.10881646167078e-15*v1\n",
      "d_d2= -1.08325013972071e-13*a0 + 2.2997476938664e-14*v1\n",
      "p2= L**2*d2 - L*d1 - 1\n",
      "====================================================================================================\n"
     ]
    }
   ],
   "source": [
    "g = substitute(g, [v0, m, H0, L], [v0_, m_, H0_, L_])\n",
    "d_a0 = diff(g, a0)\n",
    "d_a1 = diff(g, a1)\n",
    "d_a2 = diff(g, a2)\n",
    "d_a3 = diff(g, a3)\n",
    "d_d1 = diff(g, d1)\n",
    "d_d2 = diff(g, d2)\n",
    "# p2 = substitute(p,[x], [L_]) - 1\n",
    "p2 = substitute(p,[x], [L]) - 1\n",
    "p1 = substitute(p, [x], [0])\n",
    "print(\"d_a0=\", d_a0)\n",
    "print(\"d_a1=\", d_a1)\n",
    "print(\"d_a2\", d_a2)\n",
    "print(\"d_a3\", d_a3)\n",
    "\n",
    "print(\"d_d1=\", d_d1)\n",
    "print(\"d_d2=\", d_d2)\n",
    "print(\"p2=\", p2)\n",
    "print('=' * 100)"
   ]
  },
  {
   "cell_type": "code",
   "execution_count": 29,
   "metadata": {
    "collapsed": false
   },
   "outputs": [
    {
     "name": "stdout",
     "output_type": "stream",
     "text": [
      "1. Solving all partial derivatives equal to 0\n",
      "--------------------------------------------------\n",
      "Solving for variables [a0, d1, d2]\n",
      "Amount of solutions 1\n",
      "New solution: \n",
      "a0 =0.212300705953228⋅v₁\n",
      "d1 =5.43760714697595⋅d₂ - 1.74582874794911e+15⋅v₁ - 0.0891680535392571\n",
      "d2 =d₂\n",
      "==================================================\n",
      "1. Building plot\n",
      "====================================================================================================\n",
      "vx =  a0*(1 - x**2/L**2)*(-y**2 + (H0 - 0.1*(x/5 - 1)**2)**2) + v0*(1 - x/L) + v1*x*(-y**2 + (H0 - 0.1*(x/5 - 1)**2)**2)/L\n",
      "vx1 =  x*(-y**2 + (-0.1*(x/5 - 1)**2 + 1)**2)/5 - x/10 + 0.424601411906455*(-x**2/100 + 1)*(-y**2 + (-0.1*(x/5 - 1)**2 + 1)**2) + 1\n",
      "----------------------------------------------------------------------------------------------------\n",
      "vx1 =  x*(-0.1*(x/5 - 1)**2 + 1)**2/5 - x/10 + 0.424601411906455*(-x**2/100 + 1)*(-0.1*(x/5 - 1)**2 + 1)**2 + 1\n"
     ]
    },
    {
     "data": {
      "image/png": "[encoded data removed]",
      "text/plain": [
       "<matplotlib.figure.Figure at 0x7f4b6a9cf208>"
      ]
     },
     "metadata": {},
     "output_type": "display_data"
    }
   ],
   "source": [
    "print('1. Solving all partial derivatives equal to 0')\n",
    "variables =[a0, d1, d2]\n",
    "result = solve([d_a0,d_a1,d_a2, d_a3, d_d1,d_d2], variables)\n",
    "if len(result) == 0:\n",
    "    print('No solutions!')\n",
    "else:\n",
    "    print('1. Building plot')\n",
    "    vx1 = substitute(vx, variables, result[0])\n",
    "    print('=' * 100)\n",
    "    vx1 = substitute(vx1, [v0,v1,  H0, L], [v0_,1+v0_, H0_, L_])\n",
    "    print(\"vx = \", vx)\n",
    "    print(\"vx1 = \", vx1)\n",
    "    print('-' * 100)\n",
    "    vx1 = substitute(vx1, [y], [0])\n",
    "    print(\"vx1 = \", vx1)\n",
    "    p1 = sympy.plotting.plot(vx1, xlim=(-L_, (L_ + 0.1)), ylim=(-(10 + 1), (2+1)), ylabel='vx')"
   ]
  },
  {
   "cell_type": "code",
   "execution_count": 18,
   "metadata": {
    "collapsed": false
   },
   "outputs": [
    {
     "name": "stdout",
     "output_type": "stream",
     "text": [
      "2. Building plot\n",
      "====================================================================================================\n",
      "vy =  0.333333333333333*y**3*(1.0*L*v1 - 2.0*a0*x)/L**2 + 1.0*y*(-1.0*H0**2*L*v1 + 2.0*H0**2*a0*x + 0.016*H0*L**2*a0*x - 0.08*H0*L**2*a0 + 0.024*H0*L*v1*x**2 - 0.16*H0*L*v1*x + 0.2*H0*L*v1 - 0.032*H0*a0*x**3 + 0.24*H0*a0*x**2 - 0.4*H0*a0*x - 6.4e-5*L**2*a0*x**3 + 0.00096*L**2*a0*x**2 - 0.0048*L**2*a0*x + 0.008*L**2*a0 + 1.0*L*v0 - 8.0e-5*L*v1*x**4 + 0.00128*L*v1*x**3 - 0.0072*L*v1*x**2 + 0.016*L*v1*x - 0.01*L*v1 + 9.6e-5*a0*x**5 - 0.0016*a0*x**4 + 0.0096*a0*x**3 - 0.024*a0*x**2 + 0.02*a0*x)/L**2\n",
      "vy1 =  0.00333333333333333*y**3*(-0.84920282381291*x + 20.0) + 0.01*y*(4.07617355430197e-5*x**5 - 0.00227936225905033*x**4 + 0.0133714793370941*x**3 + 0.468475640514814*x**2 - 1.71659213137631*x - 9.25713016572648)\n",
      "----------------------------------------------------------------------------------------------------\n",
      "vy1 =  0.0666666666666667*y**3 - 0.0925713016572648*y\n",
      "{(-1.17837579950497,), (0,), (1.17837579950497,)}\n",
      "0\n"
     ]
    },
    {
     "data": {
      "image/png": "[encoded data removed]",
      "text/plain": [
       "<matplotlib.figure.Figure at 0x7f4b6aa59e80>"
      ]
     },
     "metadata": {},
     "output_type": "display_data"
    }
   ],
   "source": [
    "if len(result) == 0:\n",
    "    print('No solutions!')\n",
    "else:\n",
    "    print('2. Building plot')\n",
    "    vy1 = substitute(vy, variables, result[0])\n",
    "    print('=' * 100)\n",
    "    vy1 = substitute(vy1, [v0,v1,  H0, L], [v0_,1+v0_, H0_, L_])\n",
    "    print(\"vy = \", vy)\n",
    "    print(\"vy1 = \", vy1)\n",
    "    print('-' * 100)\n",
    "    vy1 = substitute(vy1, [x], [0])\n",
    "    print(\"vy1 = \", vy1)\n",
    "    print(nonlinsolve([vy1], [y]))\n",
    "    print(substitute(vy1, [y], [0]))\n",
    "    p2 = sympy.plotting.plot(vy1, xlim=(-1, (1 + 0.1)), ylim=(-(0.5), (0.5)), ylabel='vy')\n",
    "    "
   ]
  },
  {
   "cell_type": "code",
   "execution_count": 37,
   "metadata": {
    "collapsed": false
   },
   "outputs": [
    {
     "ename": "NameError",
     "evalue": "name 'inverse' is not defined",
     "output_type": "error",
     "traceback": [
      "\u001b[0;31m---------------------------------------------------------------------------\u001b[0m",
      "\u001b[0;31mNameError\u001b[0m                                 Traceback (most recent call last)",
      "\u001b[0;32m<ipython-input-37-a79897e44d50>\u001b[0m in \u001b[0;36m<module>\u001b[0;34m()\u001b[0m\n\u001b[0;32m----> 1\u001b[0;31m \u001b[0mp1\u001b[0m \u001b[0;34m=\u001b[0m \u001b[0mplot\u001b[0m\u001b[0;34m(\u001b[0m\u001b[0;34m(\u001b[0m\u001b[0minverse\u001b[0m\u001b[0;34m(\u001b[0m\u001b[0mvx\u001b[0m\u001b[0;34m)\u001b[0m\u001b[0;34m)\u001b[0m\u001b[0;34m,\u001b[0m \u001b[0;34m(\u001b[0m\u001b[0;36m0\u001b[0m\u001b[0;34m)\u001b[0m\u001b[0;34m,\u001b[0m \u001b[0;34m(\u001b[0m\u001b[0;36m2\u001b[0m\u001b[0;34m)\u001b[0m\u001b[0;34m,\u001b[0m \u001b[0mylim\u001b[0m \u001b[0;34m=\u001b[0m \u001b[0;34m[\u001b[0m\u001b[0;34m-\u001b[0m\u001b[0;36m1\u001b[0m\u001b[0;34m,\u001b[0m \u001b[0;36m10\u001b[0m\u001b[0;34m]\u001b[0m\u001b[0;34m)\u001b[0m\u001b[0;34m\u001b[0m\u001b[0m\n\u001b[0m",
      "\u001b[0;31mNameError\u001b[0m: name 'inverse' is not defined"
     ]
    }
   ],
   "source": [
    "p1 = plot((inverse(vx)), (0), (2), ylim = [-1, 10])"
   ]
  },
  {
   "cell_type": "code",
   "execution_count": null,
   "metadata": {
    "collapsed": true
   },
   "outputs": [],
   "source": []
  }
 ],
 "metadata": {
  "kernelspec": {
   "display_name": "Python 3",
   "language": "python",
   "name": "python3"
  },
  "language_info": {
   "codemirror_mode": {
    "name": "ipython",
    "version": 3
   },
   "file_extension": ".py",
   "mimetype": "text/x-python",
   "name": "python",
   "nbconvert_exporter": "python",
   "pygments_lexer": "ipython3",
   "version": "3.6.0"
  }
 },
 "nbformat": 4,
 "nbformat_minor": 2
}
