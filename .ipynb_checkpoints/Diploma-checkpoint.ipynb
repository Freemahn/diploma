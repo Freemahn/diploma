{
 "cells": [
  {
   "cell_type": "code",
   "execution_count": 10,
   "metadata": {
    "collapsed": true
   },
   "outputs": [],
   "source": [
    "from sympy import *\n",
    "import numpy as np\n",
    "import sympy as  sp\n",
    "import matplotlib.pyplot as plt\n",
    "import random\n",
    "from sympy.core.symbol import symbols\n",
    "from sympy.solvers.solveset import nonlinsolve\n",
    "from lib import *\n",
    "init_printing()"
   ]
  },
  {
   "cell_type": "code",
   "execution_count": 2,
   "metadata": {
    "collapsed": true
   },
   "outputs": [],
   "source": [
    "# Init variables\n",
    "a, b, c = symbols('a, b, c')\n",
    "a1, b1, c1 = symbols('a1, b1, c1')\n",
    "d, d1, d2 = symbols('d, d1, d2')\n",
    "m, L, H0, x, y = symbols('m, L, H0, x, y')\n"
   ]
  },
  {
   "cell_type": "code",
   "execution_count": 3,
   "metadata": {
    "collapsed": true
   },
   "outputs": [],
   "source": [
    "# Init variables\n",
    "a, b, c = symbols('a, b, c')\n",
    "a1, b1, c1 = symbols('a1, b1, c1')\n",
    "d, d1, d2 = symbols('d, d1, d2')\n",
    "m, L, H0, x, y = symbols('m, L, H0, x, y')\n"
   ]
  },
  {
   "cell_type": "code",
   "execution_count": 5,
   "metadata": {
    "collapsed": false
   },
   "outputs": [],
   "source": [
    "m_ = 1\n",
    "L_ = 15\n",
    "H0_ = 2\n",
    "\n",
    "d1_ = 3\n",
    "d2_ = 3\n",
    "H = H0 - (x - L / 2) ** 2\n",
    "vx = (a +  b  * x + c  * x ** 2) * (H ** 2 - y ** 2)\n",
    "vy = (a1 + b1 * x + c1 * x ** 2) * (H ** 2 - y ** 2)\n",
    "\n",
    "p       = d1_ * x + d2_ * x ** 2\n",
    "p_end   = d1_ * L + d2_ * L ** 2 - 1\n",
    "pxx = -p * 1 + m * (diff(vx, x) + diff(vx, x))\n",
    "pxy = -p * 0 + m * (diff(vx, y) + diff(vy, x))\n",
    "pyy = -p + 1 + m * (diff(vy, y) + diff(vy, y))\n",
    "p2ij = pxx ** 2 + 2 * pxy ** 2 + pyy ** 2\n",
    "f = p2ij - 2 * p ** 2\n"
   ]
  },
  {
   "cell_type": "code",
   "execution_count": 6,
   "metadata": {
    "collapsed": false
   },
   "outputs": [
    {
     "name": "stdout",
     "output_type": "stream",
     "text": [
      "Substitute m, H0, L to  1 , 2 , 15\n",
      "Partial derivatives by a, b, c\n",
      "====================================================================================================\n",
      "  52048641455⋅a   780729621825⋅b   134374471653375⋅c   3704481000\n",
      "- ───────────── - ────────────── - ───────────────── + ──────────\n",
      "        14              28                308              7     \n",
      "  780729621825⋅a   271984731984989⋅b   4163082240558585⋅c   453770493975\n",
      "- ────────────── - ───────────────── - ────────────────── + ────────────\n",
      "        28                616                 616                56     \n",
      "  134374471653375⋅a   4163082240558585⋅b   59549903089445775⋅c   6862803287625\n",
      "- ───────────────── - ────────────────── - ─────────────────── + ─────────────\n",
      "         308                 616                   572                 56     \n",
      "  3728246005⋅a₁   55923690075⋅b₁   134699139084375⋅c₁\n",
      "- ───────────── - ────────────── - ──────────────────\n",
      "        2               4                 616        \n",
      "  55923690075⋅a₁   272634066846989⋅b₁   2086121113935855⋅c₁\n",
      "- ────────────── - ────────────────── - ───────────────────\n",
      "        4                 1232                  616        \n",
      "  134699139084375⋅a₁   2086121113935855⋅b₁   59670816550929525⋅c₁\n",
      "- ────────────────── - ─────────────────── - ────────────────────\n",
      "         616                   616                   1144        \n",
      "====================================================================================================\n",
      "719\n"
     ]
    }
   ],
   "source": [
    "print(\"Substitute m, H0, L to \", m_, ',', H0_, ',', L_)\n",
    "H = goin(H, [H0, L], [H0_, L_])\n",
    "f = goin(f, [m, H0, L], [m_, H0_, L_])\n",
    "p_end = goin(p_end  , [H0, L], [H0_, L_])\n",
    "\n",
    "# print('f after substitution', )\n",
    "# pprint(f)\n",
    "# f1 = (2*y*(a+b*x+c*x**2)/(-(x-5)**2+1)**2)**2\n",
    "# pprint(f1)\n",
    "fx = integrate(f, (y, -H, H))\n",
    "g = integrate(fx, (x, 0, L_))\n",
    "# print('g')\n",
    "# pprint(g)\n",
    "# print('=' * 50)\n",
    "# print(\"Integrate f=...\")\n",
    "# g = integrate(f, (x, 0, 10), (y, -1, 1))\n",
    "# print('..finished,\\ng = ', g)\n",
    "diff_a = diff(g, a)\n",
    "diff_b = diff(g, b)\n",
    "diff_c = diff(g, c)\n",
    "diff_a1 = diff(g, a1)\n",
    "diff_b1 = diff(g, b1)\n",
    "diff_c1 = diff(g, c1)\n",
    "\n",
    "print('Partial derivatives by a, b, c')\n",
    "print('=' * 100)\n",
    "pprint(diff_a)\n",
    "pprint(diff_b)\n",
    "pprint(diff_c)\n",
    "\n",
    "pprint(diff_a1)\n",
    "pprint(diff_b1)\n",
    "pprint(diff_c1)\n",
    "print('=' * 100)\n",
    "pprint(p_end)\n"
   ]
  },
  {
   "cell_type": "code",
   "execution_count": 21,
   "metadata": {
    "collapsed": false
   },
   "outputs": [
    {
     "name": "stdout",
     "output_type": "stream",
     "text": [
      "Solving all partial derivatives equal to 0\n",
      "--------------------------------------------------\n",
      "Solving for variables [a, b, c, a1, b1, c1]\n",
      "Amount of solutions 1\n",
      "0.0211988283825936\n",
      "0.0556930565815224\n",
      "-0.00252704539520980\n",
      "0\n",
      "0\n",
      "0\n",
      "==================================================\n",
      "[45886233386387390292851255179189694775/2164564595657775515115864149188017439696, 333014415746764066878772677522544875/5979460208999379876010674445270766408, -105545605311312188880/41766406536021008118247, 0, 0, 0]\n"
     ]
    }
   ],
   "source": [
    "print('Solving all partial derivatives equal to 0')\n",
    "\n",
    "equations = [diff_a, diff_b, diff_c, diff_a1, diff_b1, diff_c1]\n",
    "varbs =      [     a,      b,      c,      a1,      b1,      c1]\n",
    "args = solve(equations, varbs)\n",
    "\n",
    "# equations1 = [diff_a, diff_b, diff_c]\n",
    "# equations2 = [diff_a1, diff_b1, diff_c1]\n",
    "# vars1 = [a, b, c]\n",
    "# vars2 = [a1, b1, c1]\n",
    "# solve(equations1, vars1)\n",
    "# solve(equations2, vars2)\n",
    "print(args)\n",
    "f_res = (args[0]+args[1]*x + args[2]*x**2) * ((H0_ - (x - L_ / 2) ** 2) **2)\n",
    "# p1 = sympy.plotting.plot(f_res)\n"
   ]
  },
  {
   "cell_type": "code",
   "execution_count": 20,
   "metadata": {
    "collapsed": false
   },
   "outputs": [
    {
     "data": {
      "image/png": "[encoded data removed]",
      "text/plain": [
       "<matplotlib.figure.Figure at 0x7fa4301dda58>"
      ]
     },
     "metadata": {},
     "output_type": "display_data"
    }
   ],
   "source": [
    "x = np.arange(-10, 10, 0.1);\n",
    "y = np.sin(x)\n",
    "plt.plot(x, f_res)\n",
    "plt.show()"
   ]
  },
  {
   "cell_type": "code",
   "execution_count": null,
   "metadata": {
    "collapsed": true
   },
   "outputs": [],
   "source": []
  }
 ],
 "metadata": {
  "kernelspec": {
   "display_name": "Python 3",
   "language": "python",
   "name": "python3"
  },
  "language_info": {
   "codemirror_mode": {
    "name": "ipython",
    "version": 3
   },
   "file_extension": ".py",
   "mimetype": "text/x-python",
   "name": "python",
   "nbconvert_exporter": "python",
   "pygments_lexer": "ipython3",
   "version": "3.6.0"
  }
 },
 "nbformat": 4,
 "nbformat_minor": 2
}
