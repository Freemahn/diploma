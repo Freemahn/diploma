{
 "cells": [
  {
   "cell_type": "code",
   "execution_count": 1,
   "metadata": {
    "collapsed": true
   },
   "outputs": [],
   "source": [
    "from sympy import *\n",
    "import sympy\n",
    "import random\n",
    "from sympy.core.symbol import symbols\n",
    "from sympy.solvers.solveset import nonlinsolve\n",
    "from lib import *\n",
    "init_printing()\n",
    "a, b, c, d,d1,d2, d3 = symbols('a, b, c, d, d1, d2, d3')\n",
    "a0, a1,a2,a3,  b1, c1 = symbols('a0, a1, a2, a3, b1, c1')\n",
    "m, L, H0 = symbols('m, L, H0')\n",
    "x, y = symbols('x, y')\n",
    "v0, v1 = symbols('v0, v1')"
   ]
  },
  {
   "cell_type": "code",
   "execution_count": 2,
   "metadata": {
    "collapsed": false
   },
   "outputs": [
    {
     "name": "stdout",
     "output_type": "stream",
     "text": [
      "vx= a0*(1 - x**2/L**2)*(-y**2 + (H0 - 0.05*(x/5 - 1)**2)**2) + v0*(1 - x/L) + v1*x*(-y**2 + (H0 - 0.05*(x/5 - 1)**2)**2)/L\n",
      "p= -d1*x\n",
      "vx(0, y) a0*(-y**2 + (H0 - 0.05)**2) + v0\n",
      "vx(L, y) v1*(-y**2 + (H0 - 0.05*(L/5 - 1)**2)**2)\n",
      "H(0) (H0 - 0.05)**2\n",
      "H(L) (H0 - 0.05*(L/5 - 1)**2)**2\n"
     ]
    }
   ],
   "source": [
    "H0_, L_ = 1, 10\n",
    "m_, v0_ = 1, 1\n",
    "H = H0 -  0.05 *(2 * x / L_  - 1) ** 2\n",
    "# v1 = v0 * 12/5\n",
    "# vx = (v0 + ((a0  + a1 * x) **  2) * x * (L - x)) * (H ** 2 - y ** 2)\n",
    "vx =  v0 * (1- x/L) + v1 *(H**2-y**2)*(x/L)  + (1-x**2/L**2)*(H ** 2 - y ** 2) * (a0)\n",
    "p = - d1 * x\n",
    "print(\"vx=\", vx)\n",
    "print(\"p=\", p)\n",
    "# checking profiles\n",
    "print(\"vx(0, y)\", substitute(vx, [x], [0]))\n",
    "print(\"vx(L, y)\", substitute(vx, [x], [L]))\n",
    "print(\"H(0)\", substitute(H ** 2, [x], [0]))\n",
    "print(\"H(L)\", substitute(H ** 2, [x], [L]))"
   ]
  },
  {
   "cell_type": "code",
   "execution_count": 3,
   "metadata": {
    "collapsed": false
   },
   "outputs": [
    {
     "name": "stdout",
     "output_type": "stream",
     "text": [
      "vy= 0.333333333333333*y**3*(1.0*L*v1 - 2.0*a0*x)/L**2 + 1.0*y*(-1.0*H0**2*L*v1 + 2.0*H0**2*a0*x + 0.008*H0*L**2*a0*x - 0.04*H0*L**2*a0 + 0.012*H0*L*v1*x**2 - 0.08*H0*L*v1*x + 0.1*H0*L*v1 - 0.016*H0*a0*x**3 + 0.12*H0*a0*x**2 - 0.2*H0*a0*x - 1.6e-5*L**2*a0*x**3 + 0.00024*L**2*a0*x**2 - 0.0012*L**2*a0*x + 0.002*L**2*a0 + 1.0*L*v0 - 2.0e-5*L*v1*x**4 + 0.00032*L*v1*x**3 - 0.0018*L*v1*x**2 + 0.004*L*v1*x - 0.0025*L*v1 + 2.4e-5*a0*x**5 - 0.0004*a0*x**4 + 0.0024*a0*x**3 - 0.006*a0*x**2 + 0.005*a0*x)/L**2\n",
      "==================================================\n"
     ]
    }
   ],
   "source": [
    "dxvx = diff(vx, x)\n",
    "dyvy = - dxvx\n",
    "# print(\"dyvy=\", dyvy)\n",
    "vy = integrate(dyvy, y)\n",
    "print(\"vy=\", vy)\n",
    "# vy = 0\n",
    "print('='*50)"
   ]
  },
  {
   "cell_type": "code",
   "execution_count": 4,
   "metadata": {
    "collapsed": false
   },
   "outputs": [
    {
     "name": "stdout",
     "output_type": "stream",
     "text": [
      "f= -2*d1**2*x**2 + 2*(-0.00666666666666667*a0*y**3 - 2*a0*y*(-x**2/100 + 1) - v1*x*y/5 + 0.01*y*(0.00012*a0*x**4 - 0.0016*a0*x**3 - 0.0456*a0*x**2 + 0.276*a0*x + 2.485*a0 - 0.0008*v1*x**3 + 0.0096*v1*x**2 + 0.204*v1*x - 0.76*v1))**2 + (-a0*x*(-y**2 + (-0.05*(x/5 - 1)**2 + 1)**2)/25 + 2*a0*(-0.008*x + 0.04)*(-x**2/100 + 1)*(-0.05*(x/5 - 1)**2 + 1) + d1*x + v1*x*(-0.008*x + 0.04)*(-0.05*(x/5 - 1)**2 + 1)/5 + v1*(-y**2 + (-0.05*(x/5 - 1)**2 + 1)**2)/5 - 1/5)**2 + (4.8e-7*a0*x**5 - 8.0e-6*a0*x**4 - 0.000304*a0*x**3 + 0.00276*a0*x**2 + 0.0497*a0*x - 0.076*a0 + d1*x - 4.0e-6*v1*x**4 + 6.4e-5*v1*x**3 + 0.00204*v1*x**2 - 0.0152*v1*x - 0.1805*v1 + 0.02*y**2*(-2.0*a0*x + 10.0*v1) + 0.2)**2\n",
      "1. Integrating ...\n",
      "fx= 1.26984126984127e-5*a0**2*(-0.05*(x/5 - 1)**2 + 1)**7 - 1.26984126984127e-5*a0**2*(0.05*(x/5 - 1)**2 - 1)**7 + (-0.05*(x/5 - 1)**2 + 1)**5*(-6.4e-9*a0**2*x**4 + 8.53333333333334e-8*a0**2*x**3 + 0.000535765333333333*a0**2*x**2 - 1.472e-5*a0**2*x + 0.0105341333333333*a0**2 + 4.26666666666667e-8*a0*v1*x**3 - 5.12e-7*a0*v1*x**2 - 0.00534421333333333*a0*v1*x + 4.05333333333333e-5*a0*v1 + 0.016*v1**2) + (-0.05*(x/5 - 1)**2 + 1)**3*(9.6e-13*a0**2*x**8 - 2.56e-11*a0**2*x**7 + 5.84106666666667e-9*a0**2*x**6 + 1.4144e-8*a0**2*x**5 + 0.000267639504*a0**2*x**4 - 3.31415466666667e-5*a0**2*x**3 - 0.0541153637333333*a0**2*x**2 - 0.00321521866666667*a0**2*x + 2.60081168166667*a0**2 - 1.28e-11*a0*v1*x**7 + 3.24266666666667e-10*a0*v1*x**6 - 1.8592e-7*a0*v1*x**5 + 1.136512e-6*a0*v1*x**4 - 0.00532685664*a0*v1*x**3 + 0.0003673088*a0*v1*x**2 + 0.544186290666667*a0*v1*x - 0.000251813333333333*a0*v1 - 0.0106666666666667*a0*x + 4.26666666666667e-11*v1**2*x**6 - 1.024e-9*v1**2*x**5 + 1.05105066666667e-6*v1**2*x**4 - 8.19114666666667e-6*v1**2*x**3 + 0.0266684682666667*v1**2*x**2 - 0.00204733866666667*v1**2*x - 0.0480948266666667*v1**2 + 0.0533333333333333*v1) + (-0.05*(x/5 - 1)**2 + 1)*(4.608e-13*a0**2*x**10 - 1.536e-11*a0**2*x**9 - 4.5568e-10*a0**2*x**8 + 1.50272e-8*a0**2*x**7 + 1.91936e-7*a0**2*x**6 - 5.09248e-6*a0**2*x**5 - 4.2768e-5*a0**2*x**4 + 0.000641104*a0**2*x**3 + 0.00410114*a0**2*x**2 - 0.0151088*a0**2*x + 0.011552*a0**2 + 1.05879118406788e-22*a0*d1*x**6 + 1.6940658945086e-21*a0*d1*x**5 + 5.42101086242752e-20*a0*d1*x**4 - 4.33680868994202e-19*a0*d1*x**3 + 3.46944695195361e-18*a0*d1*x**2 - 7.68e-12*a0*v1*x**9 + 2.5088e-10*a0*v1*x**8 + 6.7328e-9*a0*v1*x**7 - 2.16448e-7*a0*v1*x**6 - 2.42944e-6*a0*v1*x**5 + 6.072e-5*a0*v1*x**4 + 0.000437776*a0*v1*x**3 - 0.00563464*a0*v1*x**2 - 0.0312626*a0*v1*x + 0.054872*a0*v1 + 3.84e-7*a0*x**5 - 6.4e-6*a0*x**4 - 0.0002432*a0*x**3 + 0.002208*a0*x**2 + 0.03976*a0*x - 0.0608*a0 - 2.71050543121376e-20*d1*v1*x**4 - 5.55111512312578e-17*d1*v1*x + 3.2e-11*v1**2*x**8 - 1.024e-9*v1**2*x**7 - 2.4448e-8*v1**2*x**6 + 7.6544e-7*v1**2*x**5 + 7.32e-6*v1**2*x**4 - 0.00017024*v1**2*x**3 - 0.0010108*v1**2*x**2 + 0.0109744*v1**2*x + 0.0651605*v1**2 - 3.2e-6*v1*x**4 + 5.12e-5*v1*x**3 + 0.001632*v1*x**2 - 0.01216*v1*x - 0.1444*v1 + 0.08) - (0.05*(x/5 - 1)**2 - 1)**5*(-6.4e-9*a0**2*x**4 + 8.53333333333334e-8*a0**2*x**3 + 0.000535765333333333*a0**2*x**2 - 1.472e-5*a0**2*x + 0.0105341333333333*a0**2 + 4.26666666666667e-8*a0*v1*x**3 - 5.12e-7*a0*v1*x**2 - 0.00534421333333333*a0*v1*x + 4.05333333333333e-5*a0*v1 + 0.016*v1**2) - (0.05*(x/5 - 1)**2 - 1)**3*(9.6e-13*a0**2*x**8 - 2.56e-11*a0**2*x**7 + 5.84106666666667e-9*a0**2*x**6 + 1.4144e-8*a0**2*x**5 + 0.000267639504*a0**2*x**4 - 3.31415466666667e-5*a0**2*x**3 - 0.0541153637333333*a0**2*x**2 - 0.00321521866666667*a0**2*x + 2.60081168166667*a0**2 - 1.28e-11*a0*v1*x**7 + 3.24266666666667e-10*a0*v1*x**6 - 1.8592e-7*a0*v1*x**5 + 1.136512e-6*a0*v1*x**4 - 0.00532685664*a0*v1*x**3 + 0.0003673088*a0*v1*x**2 + 0.544186290666667*a0*v1*x - 0.000251813333333333*a0*v1 - 0.0106666666666667*a0*x + 4.26666666666667e-11*v1**2*x**6 - 1.024e-9*v1**2*x**5 + 1.05105066666667e-6*v1**2*x**4 - 8.19114666666667e-6*v1**2*x**3 + 0.0266684682666667*v1**2*x**2 - 0.00204733866666667*v1**2*x - 0.0480948266666667*v1**2 + 0.0533333333333333*v1) - (0.05*(x/5 - 1)**2 - 1)*(4.608e-13*a0**2*x**10 - 1.536e-11*a0**2*x**9 - 4.5568e-10*a0**2*x**8 + 1.50272e-8*a0**2*x**7 + 1.91936e-7*a0**2*x**6 - 5.09248e-6*a0**2*x**5 - 4.2768e-5*a0**2*x**4 + 0.000641104*a0**2*x**3 + 0.00410114*a0**2*x**2 - 0.0151088*a0**2*x + 0.011552*a0**2 + 1.05879118406788e-22*a0*d1*x**6 + 1.6940658945086e-21*a0*d1*x**5 + 5.42101086242752e-20*a0*d1*x**4 - 4.33680868994202e-19*a0*d1*x**3 + 3.46944695195361e-18*a0*d1*x**2 - 7.68e-12*a0*v1*x**9 + 2.5088e-10*a0*v1*x**8 + 6.7328e-9*a0*v1*x**7 - 2.16448e-7*a0*v1*x**6 - 2.42944e-6*a0*v1*x**5 + 6.072e-5*a0*v1*x**4 + 0.000437776*a0*v1*x**3 - 0.00563464*a0*v1*x**2 - 0.0312626*a0*v1*x + 0.054872*a0*v1 + 3.84e-7*a0*x**5 - 6.4e-6*a0*x**4 - 0.0002432*a0*x**3 + 0.002208*a0*x**2 + 0.03976*a0*x - 0.0608*a0 - 2.71050543121376e-20*d1*v1*x**4 - 5.55111512312578e-17*d1*v1*x + 3.2e-11*v1**2*x**8 - 1.024e-9*v1**2*x**7 - 2.4448e-8*v1**2*x**6 + 7.6544e-7*v1**2*x**5 + 7.32e-6*v1**2*x**4 - 0.00017024*v1**2*x**3 - 0.0010108*v1**2*x**2 + 0.0109744*v1**2*x + 0.0651605*v1**2 - 3.2e-6*v1*x**4 + 5.12e-5*v1*x**3 + 0.001632*v1*x**2 - 0.01216*v1*x - 0.1444*v1 + 0.08)\n",
      "2. Integrating ...\n",
      "g=                 2                                                            \n",
      "46.45493965338⋅a₀  + 7.32032117593564e-15⋅a₀⋅d₁ + 11.8345312483509⋅a₀⋅v₁ - 2.2\n",
      "\n",
      "                                                                       2      \n",
      "2044604925031e-16⋅a₀ - 3.23050944460776e-15⋅d₁⋅v₁ + 23.2091689236618⋅v₁  - 2.1\n",
      "\n",
      "                        \n",
      "84⋅v₁ + 2.82666666666667\n",
      "==================================================\n"
     ]
    }
   ],
   "source": [
    "pxx = -p * 1 + m * (diff(vx, x) + diff(vx, x))\n",
    "pxy = -p * 0 + m * (diff(vx, y) + diff(vy, x))\n",
    "pyy = -p * 1 + m * (diff(vy, y) + diff(vy, y))\n",
    "p2ij = pxx ** 2 + 2 * pxy ** 2 + pyy ** 2\n",
    "f = p2ij - 2 * (p ** 2) \n",
    "f = substitute(f, [v0, m, H0, L], [v0_, m_, H0_, L_])\n",
    "print(\"f=\", f)\n",
    "print('1. Integrating ...')\n",
    "fx = integrate(f, (y, -H, H)) \n",
    "fx = substitute(fx, [v0, m, H0, L], [v0_, m_, H0_, L_])\n",
    "print(\"fx=\", fx)\n",
    "print('2. Integrating ...')\n",
    "# g = integrate(fx, (x, -L, L))\n",
    "g = integrate(fx, (x, -L, 0)) +  integrate(fx, (x, 0, L))\n",
    "g = substitute(g, [v0, m, H0, L], [v0_, m_, H0_, L_])\n",
    "print('g=', end='')\n",
    "pprint(g)\n",
    "print('='*50)"
   ]
  },
  {
   "cell_type": "code",
   "execution_count": 5,
   "metadata": {
    "collapsed": false
   },
   "outputs": [
    {
     "name": "stdout",
     "output_type": "stream",
     "text": [
      "d_a0= 92.9098793067601*a0 + 7.32032117593564e-15*d1 + 11.8345312483509*v1 - 2.22044604925031e-16\n",
      "d_a1= 0\n",
      "d_a2 0\n",
      "d_a3 0\n",
      "d_d1= 7.32032117593564e-15*a0 - 3.23050944460776e-15*v1\n",
      "d_d2= 0\n",
      "p2= -L*d1 - 1\n",
      "====================================================================================================\n"
     ]
    }
   ],
   "source": [
    "g = substitute(g, [v0, m, H0, L], [v0_, m_, H0_, L_])\n",
    "d_a0 = diff(g, a0)\n",
    "d_a1 = diff(g, a1)\n",
    "d_a2 = diff(g, a2)\n",
    "d_a3 = diff(g, a3)\n",
    "d_d1 = diff(g, d1)\n",
    "d_d2 = diff(g, d2)\n",
    "# p2 = substitute(p,[x], [L_]) - 1\n",
    "p2 = substitute(p,[x], [L]) - 1\n",
    "p1 = substitute(p, [x], [0])\n",
    "print(\"d_a0=\", d_a0)\n",
    "print(\"d_a1=\", d_a1)\n",
    "print(\"d_a2\", d_a2)\n",
    "print(\"d_a3\", d_a3)\n",
    "\n",
    "print(\"d_d1=\", d_d1)\n",
    "print(\"d_d2=\", d_d2)\n",
    "print(\"p2=\", p2)\n",
    "print('=' * 100)"
   ]
  },
  {
   "cell_type": "code",
   "execution_count": 6,
   "metadata": {
    "collapsed": false
   },
   "outputs": [
    {
     "name": "stdout",
     "output_type": "stream",
     "text": [
      "1. Solving all partial derivatives equal to 0\n",
      "--------------------------------------------------\n",
      "Solving for variables [a0, d1]\n",
      "Amount of solutions 1\n",
      "New solution: \n",
      "a0 =0.441307063852271⋅v₁\n",
      "d1 =-7.21775944227377e+15⋅v₁ + 0.0303326315319288\n",
      "==================================================\n",
      "1. Building plot\n",
      "====================================================================================================\n",
      "vx =  a0*(1 - x**2/L**2)*(-y**2 + (H0 - 0.05*(x/5 - 1)**2)**2) + v0*(1 - x/L) + v1*x*(-y**2 + (H0 - 0.05*(x/5 - 1)**2)**2)/L\n",
      "vx1 =  v1*x*(-y**2 + (-0.05*(x/5 - 1)**2 + 1)**2)/10 + 0.441307063852271*v1*(-x**2/100 + 1)*(-y**2 + (-0.05*(x/5 - 1)**2 + 1)**2) - x/10 + 1\n",
      "----------------------------------------------------------------------------------------------------\n",
      "vx1 =  v1*x*(-0.05*(x/5 - 1)**2 + 1)**2/10 + 0.441307063852271*v1*(-x**2/100 + 1)*(-0.05*(x/5 - 1)**2 + 1)**2 - x/10 + 1\n",
      "====================================================================================================\n"
     ]
    },
    {
     "ename": "ValueError",
     "evalue": "The same variable should be used in all univariate expressions being plotted.",
     "output_type": "error",
     "traceback": [
      "\u001b[0;31m---------------------------------------------------------------------------\u001b[0m",
      "\u001b[0;31mValueError\u001b[0m                                Traceback (most recent call last)",
      "\u001b[0;32m<ipython-input-6-9f78046eafaf>\u001b[0m in \u001b[0;36m<module>\u001b[0;34m()\u001b[0m\n\u001b[1;32m     16\u001b[0m     \u001b[0mprint\u001b[0m\u001b[0;34m(\u001b[0m\u001b[0;34m'='\u001b[0m \u001b[0;34m*\u001b[0m \u001b[0;36m100\u001b[0m\u001b[0;34m)\u001b[0m\u001b[0;34m\u001b[0m\u001b[0m\n\u001b[1;32m     17\u001b[0m \u001b[0;34m\u001b[0m\u001b[0m\n\u001b[0;32m---> 18\u001b[0;31m     \u001b[0mp1\u001b[0m \u001b[0;34m=\u001b[0m \u001b[0msympy\u001b[0m\u001b[0;34m.\u001b[0m\u001b[0mplotting\u001b[0m\u001b[0;34m.\u001b[0m\u001b[0mplot\u001b[0m\u001b[0;34m(\u001b[0m\u001b[0mvx1\u001b[0m\u001b[0;34m,\u001b[0m \u001b[0mxlim\u001b[0m\u001b[0;34m=\u001b[0m\u001b[0;34m(\u001b[0m\u001b[0;34m-\u001b[0m\u001b[0mL_\u001b[0m\u001b[0;34m,\u001b[0m \u001b[0;34m(\u001b[0m\u001b[0mL_\u001b[0m \u001b[0;34m+\u001b[0m \u001b[0;36m0.1\u001b[0m\u001b[0;34m)\u001b[0m\u001b[0;34m)\u001b[0m\u001b[0;34m,\u001b[0m \u001b[0mylim\u001b[0m\u001b[0;34m=\u001b[0m\u001b[0;34m(\u001b[0m\u001b[0;34m-\u001b[0m\u001b[0;34m(\u001b[0m\u001b[0;36m10\u001b[0m \u001b[0;34m+\u001b[0m \u001b[0;36m1\u001b[0m\u001b[0;34m)\u001b[0m\u001b[0;34m,\u001b[0m \u001b[0;34m(\u001b[0m\u001b[0;36m1\u001b[0m\u001b[0;34m+\u001b[0m\u001b[0;36m1\u001b[0m\u001b[0;34m)\u001b[0m\u001b[0;34m)\u001b[0m\u001b[0;34m,\u001b[0m \u001b[0mylabel\u001b[0m\u001b[0;34m=\u001b[0m\u001b[0;34m'vx'\u001b[0m\u001b[0;34m)\u001b[0m\u001b[0;34m\u001b[0m\u001b[0m\n\u001b[0m",
      "\u001b[0;32m/home/freemahn/build-repos/sympy/sympy/plotting/plot.py\u001b[0m in \u001b[0;36mplot\u001b[0;34m(*args, **kwargs)\u001b[0m\n\u001b[1;32m   1281\u001b[0m             \u001b[0;32mif\u001b[0m \u001b[0mlen\u001b[0m\u001b[0;34m(\u001b[0m\u001b[0mfree\u001b[0m\u001b[0;34m)\u001b[0m \u001b[0;34m>\u001b[0m \u001b[0;36m1\u001b[0m\u001b[0;34m:\u001b[0m\u001b[0;34m\u001b[0m\u001b[0m\n\u001b[1;32m   1282\u001b[0m                 raise ValueError(\n\u001b[0;32m-> 1283\u001b[0;31m                     \u001b[0;34m'The same variable should be used in all '\u001b[0m\u001b[0;34m\u001b[0m\u001b[0m\n\u001b[0m\u001b[1;32m   1284\u001b[0m                     'univariate expressions being plotted.')\n\u001b[1;32m   1285\u001b[0m     \u001b[0mx\u001b[0m \u001b[0;34m=\u001b[0m \u001b[0mfree\u001b[0m\u001b[0;34m.\u001b[0m\u001b[0mpop\u001b[0m\u001b[0;34m(\u001b[0m\u001b[0;34m)\u001b[0m \u001b[0;32mif\u001b[0m \u001b[0mfree\u001b[0m \u001b[0;32melse\u001b[0m \u001b[0mSymbol\u001b[0m\u001b[0;34m(\u001b[0m\u001b[0;34m'x'\u001b[0m\u001b[0;34m)\u001b[0m\u001b[0;34m\u001b[0m\u001b[0m\n",
      "\u001b[0;31mValueError\u001b[0m: The same variable should be used in all univariate expressions being plotted."
     ]
    }
   ],
   "source": [
    "print('1. Solving all partial derivatives equal to 0')\n",
    "variables =[a0, d1]\n",
    "result = solve([d_a0,d_a1,d_a2, d_a3, d_d1], variables)\n",
    "if len(result) == 0:\n",
    "    print('No solutions!')\n",
    "else:\n",
    "    print('1. Building plot')\n",
    "    vx1 = substitute(vx, variables, result[0])\n",
    "    print('=' * 100)\n",
    "    vx1 = substitute(vx1, [v0,v1,  H0, L], [v0_, H0_, L_])\n",
    "    print(\"vx = \", vx)\n",
    "    print(\"vx1 = \", vx1)\n",
    "    print('-' * 100)\n",
    "    vx1 = substitute(vx1, [y], [0])\n",
    "    print(\"vx1 = \", vx1)\n",
    "    print('=' * 100)\n",
    "   \n",
    "    p1 = sympy.plotting.plot(vx1, xlim=(-L_, (L_ + 0.1)), ylim=(-(10 + 1), (1+1)), ylabel='vx')\n"
   ]
  },
  {
   "cell_type": "code",
   "execution_count": null,
   "metadata": {
    "collapsed": true
   },
   "outputs": [],
   "source": []
  },
  {
   "cell_type": "code",
   "execution_count": null,
   "metadata": {
    "collapsed": false
   },
   "outputs": [],
   "source": [
    "H = H0_ #-  (2 * x / L_  - 1) ** 2\n",
    "vx__ = 1 * H **2 + 2 * (1- x**2 / L_ **2) * H **2\n",
    "p1 = sympy.plotting.plot(vx__, xlim=(-L_, (L_ + 0.1)), ylim=(-(10 + 1), (10+1)), ylabel='vx')"
   ]
  },
  {
   "cell_type": "code",
   "execution_count": null,
   "metadata": {
    "collapsed": true
   },
   "outputs": [],
   "source": []
  }
 ],
 "metadata": {
  "kernelspec": {
   "display_name": "Python 3",
   "language": "python",
   "name": "python3"
  },
  "language_info": {
   "codemirror_mode": {
    "name": "ipython",
    "version": 3
   },
   "file_extension": ".py",
   "mimetype": "text/x-python",
   "name": "python",
   "nbconvert_exporter": "python",
   "pygments_lexer": "ipython3",
   "version": "3.6.0"
  }
 },
 "nbformat": 4,
 "nbformat_minor": 2
}
